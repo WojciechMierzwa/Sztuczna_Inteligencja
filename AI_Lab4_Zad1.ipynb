{
  "nbformat": 4,
  "nbformat_minor": 0,
  "metadata": {
    "colab": {
      "provenance": [],
      "authorship_tag": "ABX9TyP1dGvnm5z3JdqF9D56wNoN",
      "include_colab_link": true
    },
    "kernelspec": {
      "name": "python3",
      "display_name": "Python 3"
    },
    "language_info": {
      "name": "python"
    }
  },
  "cells": [
    {
      "cell_type": "markdown",
      "metadata": {
        "id": "view-in-github",
        "colab_type": "text"
      },
      "source": [
        "<a href=\"https://colab.research.google.com/github/WojciechMierzwa/Sztuczna_Inteligencja/blob/main/AI_Lab4_Zad1.ipynb\" target=\"_parent\"><img src=\"https://colab.research.google.com/assets/colab-badge.svg\" alt=\"Open In Colab\"/></a>"
      ]
    },
    {
      "cell_type": "code",
      "execution_count": 38,
      "metadata": {
        "id": "PcUU2wgTACWJ"
      },
      "outputs": [],
      "source": [
        "import numpy as np\n",
        "from sklearn import preprocessing\n",
        "raw_csv_data = np.loadtxt('sample_data/Audiobooks_data.csv', delimiter=',')\n",
        "unscaled_inputs_all = raw_csv_data[:,1:-1]\n",
        "targets_all = raw_csv_data[:,-1]"
      ]
    },
    {
      "cell_type": "code",
      "source": [
        "shuffled_indices = np.arange(unscaled_inputs_all.shape[0])\n",
        "np.random.shuffle(shuffled_indices)\n",
        "\n",
        "unscaled_inputs_all = unscaled_inputs_all[shuffled_indices]\n",
        "targets_all = targets_all[shuffled_indices]"
      ],
      "metadata": {
        "id": "Vc7h-aRYBLOb"
      },
      "execution_count": 39,
      "outputs": []
    },
    {
      "cell_type": "code",
      "source": [
        "num_one_targets = int(np.sum(targets_all))\n",
        "\n",
        "zero_targets_counter = 0\n",
        "\n",
        "indices_to_remove = []\n",
        "\n",
        "for i in range(targets_all.shape[0]):\n",
        "  if targets_all[i] == 0:\n",
        "    zero_targets_counter += 1\n",
        "    if zero_targets_counter > num_one_targets:\n",
        "      indices_to_remove.append(i)\n",
        "\n",
        "unscaled_inputs_equal_priors = np.delete(unscaled_inputs_all, indices_to_remove, axis = 0)\n",
        "targets_equal_priors = np.delete(targets_all, indices_to_remove, axis= 0)\n",
        "\n"
      ],
      "metadata": {
        "id": "l1PLJHEICJ0H"
      },
      "execution_count": 40,
      "outputs": []
    },
    {
      "cell_type": "code",
      "source": [
        "scaled_inputs = preprocessing.scale(unscaled_inputs_equal_priors)"
      ],
      "metadata": {
        "id": "K7cPkSoyDEMZ"
      },
      "execution_count": 41,
      "outputs": []
    },
    {
      "cell_type": "code",
      "source": [
        "shuffled_indices = np.arange(scaled_inputs.shape[0])\n",
        "np.random.shuffle(shuffled_indices)\n",
        "\n",
        "shuffled_inputs = scaled_inputs[shuffled_indices]\n",
        "shuffled_targets = targets_equal_priors[shuffled_indices]"
      ],
      "metadata": {
        "id": "y4kyp0abDUDs"
      },
      "execution_count": 42,
      "outputs": []
    },
    {
      "cell_type": "code",
      "source": [
        "samples_count = shuffled_inputs.shape[0]\n",
        "\n",
        "train_samples_count = int(0.8 * samples_count)\n",
        "validation_samples_count = int(0.1 * samples_count)\n",
        "\n",
        "test_samples_count = samples_count - train_samples_count - validation_samples_count\n",
        "\n",
        "train_inputs = shuffled_inputs[:train_samples_count]\n",
        "train_targets = shuffled_targets[:train_samples_count]\n",
        "\n",
        "validation_inputs = shuffled_inputs[train_samples_count:train_samples_count+validation_samples_count]\n",
        "validation_targets = shuffled_inputs[train_samples_count:train_samples_count+validation_samples_count]\n",
        "\n",
        "test_inputs = shuffled_inputs[train_samples_count + validation_samples_count:]\n",
        "test_targets = shuffled_targets[train_samples_count+validation_samples_count:]"
      ],
      "metadata": {
        "id": "YWMfqK93Dqg0"
      },
      "execution_count": 43,
      "outputs": []
    },
    {
      "cell_type": "code",
      "source": [
        "print(np.sum(train_targets), train_samples_count, np.sum(train_targets)/train_samples_count)\n",
        "print(np.sum(validation_targets),validation_samples_count, np.sum(validation_targets) / validation_samples_count)\n",
        "print(np.sum(test_targets),test_samples_count,np.sum(test_targets)/test_samples_count)"
      ],
      "metadata": {
        "colab": {
          "base_uri": "https://localhost:8080/"
        },
        "id": "Z0NY4okwEuUT",
        "outputId": "ef74f1ae-677b-4160-a77c-421faa58aa6b"
      },
      "execution_count": 44,
      "outputs": [
        {
          "output_type": "stream",
          "name": "stdout",
          "text": [
            "1804.0 3579 0.5040514110086617\n",
            "158.25160771465022 447 0.35403044231465375\n",
            "195.0 448 0.43526785714285715\n"
          ]
        }
      ]
    },
    {
      "cell_type": "code",
      "source": [
        "\n",
        "np.savez ('Audiobooks_data_train', inputs=train_inputs, targets=train_targets)\n",
        "np.savez ('Audiobooks_data_validation', inputs=validation_inputs, targets=validation_targets)\n",
        "np.savez ('Audiobooks_data_test', inputs=test_inputs, targets=test_targets)"
      ],
      "metadata": {
        "id": "-WpSJFvBGqhk"
      },
      "execution_count": 45,
      "outputs": []
    }
  ]
}